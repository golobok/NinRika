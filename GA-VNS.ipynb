{
 "cells": [
  {
   "cell_type": "code",
   "execution_count": 1,
   "metadata": {},
   "outputs": [],
   "source": [
    "import random\n",
    "import copy"
   ]
  },
  {
   "cell_type": "markdown",
   "metadata": {},
   "source": [
    "# GA-VNS Code"
   ]
  },
  {
   "cell_type": "code",
   "execution_count": 10,
   "metadata": {},
   "outputs": [],
   "source": [
    "def swap(X):\n",
    "    X = copy.deepcopy(X)\n",
    "    i, j = random.sample(range(0, len(X)), 2)\n",
    "    X[i], X[j] = X[j], X[i]\n",
    "    return X\n",
    "    \n",
    "def ls_vns(X1, iteration):\n",
    "    epoch = 0\n",
    "    solution = copy.deepcopy(X1)\n",
    "    \n",
    "    while (epoch < iteration):\n",
    "        candidate = swap(solution)\n",
    "        if (count_fitness(candidate) > count_fitness(solution)):\n",
    "            solution = copy.deepcopy(candidate)\n",
    "        else:\n",
    "            solution = solution\n",
    "        epoch+=1\n",
    "    return solution\n",
    "        \n",
    "def VNS(X, kmax, iteration):\n",
    "    #Shaking\n",
    "    k = 1\n",
    "    Xt = copy.deepcopy(X)\n",
    "    \n",
    "    while (k <= kmax):\n",
    "        #shaking\n",
    "        X1 = random.sample(X, len(X))\n",
    "        #local search\n",
    "        X2 = copy.deepcopy(ls_vns(X1, iteration))\n",
    "\n",
    "        #change neighborhood\n",
    "        if (count_fitness(X2) > count_fitness(Xt)):\n",
    "            Xt = copy.deepcopy(X2)\n",
    "            k = 1\n",
    "        else :\n",
    "            k = k + 1\n",
    "    #print(\"Solusi terbaik =\", Xt, count_fitness(Xt))\n",
    "    return Xt"
   ]
  },
  {
   "cell_type": "code",
   "execution_count": 14,
   "metadata": {},
   "outputs": [],
   "source": [
    "# crossover\n",
    "def crossover(parent1, parent2):\n",
    "    pos = random.randint(0, len(parent1)-1)\n",
    "    child1 = parent1[0:pos] + parent2[pos:]\n",
    "    child2 = parent2[0:pos] + parent1[pos:]\n",
    "    return [child1, child2]\n",
    " \n",
    "# mutation\n",
    "def mutation(parent):\n",
    "    i, j = random.sample(range(0, len(parent)-1), 2)\n",
    "    parent[i], parent[j] = parent[j], parent[i]\n",
    "    child = parent\n",
    "    return [child]\n",
    "\n",
    "#count fitness\n",
    "def count_fitness(individu):\n",
    "    harga_beli = [3000, 2000, 1000, 5000, 2500, 3000, 3500, 1500]\n",
    "    harga_jual = [3500, 2500, 1500, 6000, 3500, 4000, 4000, 2000]\n",
    "    rawat_gdg = 300000\n",
    "    biaya_tkerja = 20000\n",
    "    kapasitas = 2000\n",
    "    \n",
    "    TC = sum([individu*harga_beli for individu,harga_beli in zip(individu,harga_beli)])+rawat_gdg+biaya_tkerja\n",
    "    TR = sum([individu*harga_jual for individu,harga_jual in zip(individu,harga_jual)])\n",
    "    fit_value = (TR-TC)-((sum(individu)-kapasitas)*1000)\n",
    "    return fit_value\n",
    "    \n",
    "def set_fitness(individu): \n",
    "    fitness = []\n",
    "    for i in range(0, len(individu)):\n",
    "        fitness.append(count_fitness(individu[i]))\n",
    "    return fitness\n",
    "\n",
    "#selection\n",
    "def selection(individu, popsize):\n",
    "    fitness = set_fitness(individu)\n",
    "    for i in range(0, len(individu)):\n",
    "        individu[i].insert(0, fitness[i])\n",
    "    individu = sorted(individu)\n",
    "    for i in range(len(individu)):\n",
    "        individu[i].pop(0)\n",
    "    individu = individu[-popsize:]\n",
    "    return individu\n",
    "\n",
    "def get_best(individu):\n",
    "    f = set_fitness(individu)\n",
    "    best = max(f)\n",
    "    index = f.index(best)\n",
    "    print(\"Solusi terbaik =\", individu[index], \" fitness =\", best)\n",
    "        \n",
    "# main GA\n",
    "def GAVNS(data, chromosome, popsize, cr, mr, generation, kmax, iteration):\n",
    "    individu = []\n",
    "    fitness = []\n",
    "    best_individu = []\n",
    "    epoch = 0\n",
    "    \n",
    "    interval = generation/2\n",
    "    \n",
    "    #init individu\n",
    "    for i in range(popsize):\n",
    "        individu.append(random.choices(data, k=chromosome))\n",
    "        \n",
    "    while (epoch < generation):\n",
    "        #crossover\n",
    "        do_crossover = cr*popsize\n",
    "        if (do_crossover>=2):\n",
    "            for i in range(0, round(do_crossover/2)):\n",
    "                individu.extend(crossover(individu[random.randint(0, popsize-1)], individu[random.randint(0, popsize-1)]))\n",
    "        #mutation\n",
    "        do_mutation = mr*popsize\n",
    "        for i in range(0, round(do_mutation)):\n",
    "            individu.extend(mutation(individu[random.randint(0, popsize)]))\n",
    "        \n",
    "        #do VNS di pertengahan dan di akhir generasi\n",
    "        if (epoch==interval or epoch==generation-1):\n",
    "            n_repair = len(individu) - popsize\n",
    "            for i in range (0, n_repair):\n",
    "                individu[popsize+1] = VNS(individu[popsize+1], kmax, iteration)\n",
    "        \n",
    "        #selection\n",
    "        individu = selection(individu, popsize)\n",
    "        epoch = epoch + 1\n",
    "    print()\n",
    "    get_best(individu)"
   ]
  },
  {
   "cell_type": "markdown",
   "metadata": {},
   "source": [
    "# main code"
   ]
  },
  {
   "cell_type": "code",
   "execution_count": 16,
   "metadata": {},
   "outputs": [
    {
     "name": "stdout",
     "output_type": "stream",
     "text": [
      "\n",
      "Solusi terbaik = [250, 100, 100, 400, 850, 900, 100, 250]  fitness = 1280000\n",
      "Wall time: 37.9 ms\n"
     ]
    }
   ],
   "source": [
    "data = [50, 100, 150, 200, 250, 300, 350, 400, 450, 500, 550, 600, 650, 700, 750, 800, 850, 900, 1000, 1500, 2000]\n",
    "\n",
    "#parameter\n",
    "populationsize = 10\n",
    "gen_length = 8\n",
    "cr = 0.4\n",
    "mr = 0.6\n",
    "generation = 10\n",
    "kmax = 5\n",
    "iteration = 10\n",
    "\n",
    "%time GAVNS(data, gen_length, populationsize, cr, mr, generation, kmax, iteration)"
   ]
  },
  {
   "cell_type": "code",
   "execution_count": null,
   "metadata": {},
   "outputs": [],
   "source": []
  }
 ],
 "metadata": {
  "kernelspec": {
   "display_name": "Python 3",
   "language": "python",
   "name": "python3"
  },
  "language_info": {
   "codemirror_mode": {
    "name": "ipython",
    "version": 3
   },
   "file_extension": ".py",
   "mimetype": "text/x-python",
   "name": "python",
   "nbconvert_exporter": "python",
   "pygments_lexer": "ipython3",
   "version": "3.6.4"
  }
 },
 "nbformat": 4,
 "nbformat_minor": 2
}
