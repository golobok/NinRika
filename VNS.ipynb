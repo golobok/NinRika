{
 "cells": [
  {
   "cell_type": "code",
   "execution_count": 2,
   "metadata": {},
   "outputs": [],
   "source": [
    "import random\n",
    "import copy"
   ]
  },
  {
   "cell_type": "markdown",
   "metadata": {},
   "source": [
    "# VNS Code"
   ]
  },
  {
   "cell_type": "code",
   "execution_count": 3,
   "metadata": {},
   "outputs": [],
   "source": [
    "def count_fitness(individu):\n",
    "    harga_beli = [3000, 2000, 1000, 5000, 2500, 3000, 3500, 1500]\n",
    "    harga_jual = [3500, 2500, 1500, 6000, 3500, 4000, 4000, 2000]\n",
    "    rawat_gdg = 300000\n",
    "    biaya_tkerja = 20000\n",
    "    kapasitas = 2000\n",
    "    \n",
    "    TC = sum([individu*harga_beli for individu,harga_beli in zip(individu,harga_beli)])+rawat_gdg+biaya_tkerja\n",
    "    TR = sum([individu*harga_jual for individu,harga_jual in zip(individu,harga_jual)])\n",
    "    fit_value = (TR-TC)-((sum(individu)-kapasitas)*1000)\n",
    "    return fit_value\n",
    "\n",
    "def swap(X):\n",
    "    X = copy.deepcopy(X)\n",
    "    i, j = random.sample(range(0, len(X)), 2)\n",
    "    X[i], X[j] = X[j], X[i]\n",
    "    return X\n",
    "    \n",
    "def ls_vns(X1, iteration):\n",
    "    epoch = 0\n",
    "    solution = copy.deepcopy(X1)\n",
    "    \n",
    "    while (epoch < iteration):\n",
    "        candidate = swap(solution)\n",
    "        if (count_fitness(candidate) > count_fitness(solution)):\n",
    "            solution = copy.deepcopy(candidate)\n",
    "        else:\n",
    "            solution = solution\n",
    "        epoch+=1\n",
    "    return solution\n",
    "        \n",
    "def VNS(X, kmax, iteration):\n",
    "    #Shaking\n",
    "    k = 1\n",
    "    Xt = copy.deepcopy(X)\n",
    "    \n",
    "    while (k <= kmax):\n",
    "        #shaking\n",
    "        X1 = random.sample(X, len(X))\n",
    "        #local search\n",
    "        X2 = copy.deepcopy(ls_vns(X1, iteration))\n",
    "\n",
    "        #change neighborhood\n",
    "        if (count_fitness(X2) > count_fitness(Xt)):\n",
    "            Xt = copy.deepcopy(X2)\n",
    "            k = 1\n",
    "        else :\n",
    "            k = k + 1\n",
    "    print(\"Solusi terbaik =\", Xt, count_fitness(Xt))\n",
    "    return Xt"
   ]
  },
  {
   "cell_type": "markdown",
   "metadata": {},
   "source": [
    "# Main Code"
   ]
  },
  {
   "cell_type": "code",
   "execution_count": 80,
   "metadata": {},
   "outputs": [
    {
     "name": "stdout",
     "output_type": "stream",
     "text": [
      "Solusi terbaik = [50, 550, 300, 800, 700, 1500, 400, 700] 680000\n",
      "Wall time: 77.8 ms\n"
     ]
    }
   ],
   "source": [
    "data = [50, 100, 150, 200, 250, 300, 350, 400, 450, 500, 550, 600, 650, 700, 750, 800, 850, 900, 1000, 1500, 2000]\n",
    "X =  random.choices(data, k=8)\n",
    "\n",
    "kmax = 20\n",
    "iteration = 100\n",
    "\n",
    "%time newX = VNS(X, kmax, iteration)"
   ]
  },
  {
   "cell_type": "code",
   "execution_count": null,
   "metadata": {},
   "outputs": [],
   "source": []
  }
 ],
 "metadata": {
  "kernelspec": {
   "display_name": "Python 3",
   "language": "python",
   "name": "python3"
  },
  "language_info": {
   "codemirror_mode": {
    "name": "ipython",
    "version": 3
   },
   "file_extension": ".py",
   "mimetype": "text/x-python",
   "name": "python",
   "nbconvert_exporter": "python",
   "pygments_lexer": "ipython3",
   "version": "3.6.4"
  }
 },
 "nbformat": 4,
 "nbformat_minor": 2
}
