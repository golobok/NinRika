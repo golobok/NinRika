{
 "cells": [
  {
   "cell_type": "code",
   "execution_count": 1,
   "metadata": {},
   "outputs": [],
   "source": [
    "import random\n",
    "import copy"
   ]
  },
  {
   "cell_type": "markdown",
   "metadata": {},
   "source": [
    "# VNS Code"
   ]
  },
  {
   "cell_type": "code",
   "execution_count": 2,
   "metadata": {},
   "outputs": [],
   "source": [
    "def count_fitness(individu):\n",
    "    harga_beli = [3000, 2000, 1000, 5000, 2500, 3000, 3500, 1500]\n",
    "    harga_jual = [3500, 2500, 1500, 6000, 3500, 4000, 4000, 2000]\n",
    "    rawat_gdg = 300000\n",
    "    biaya_tkerja = 20000\n",
    "    kapasitas = 2000\n",
    "    \n",
    "    TC = sum([individu*harga_beli for individu,harga_beli in zip(individu,harga_beli)])+rawat_gdg+biaya_tkerja\n",
    "    TR = sum([individu*harga_jual for individu,harga_jual in zip(individu,harga_jual)])\n",
    "    fit_value = (TR-TC)-((sum(individu)-kapasitas)*1000)\n",
    "    return fit_value\n",
    "\n",
    "def swap(X):\n",
    "    X = copy.deepcopy(X)\n",
    "    i, j = random.sample(range(0, len(X)), 2)\n",
    "    X[i], X[j] = X[j], X[i]\n",
    "    return X\n",
    "    \n",
    "def ls_vns(X1, iteration):\n",
    "    epoch = 0\n",
    "    solution = copy.deepcopy(X1)\n",
    "    \n",
    "    while (epoch < iteration):\n",
    "        candidate = swap(solution)\n",
    "        if (count_fitness(candidate) > count_fitness(solution)):\n",
    "            solution = copy.deepcopy(candidate)\n",
    "        else:\n",
    "            solution = solution\n",
    "        epoch+=1\n",
    "    return solution\n",
    "        \n",
    "def VNS(X, kmax, iteration):\n",
    "    #Shaking\n",
    "    k = 1\n",
    "    Xt = copy.deepcopy(X)\n",
    "    \n",
    "    while (k <= kmax):\n",
    "        #shaking\n",
    "        X1 = random.sample(X, len(X))\n",
    "        #local search\n",
    "        X2 = copy.deepcopy(ls_vns(X1, iteration))\n",
    "\n",
    "        #change neighborhood\n",
    "        if (count_fitness(X2) > count_fitness(Xt)):\n",
    "            Xt = copy.deepcopy(X2)\n",
    "            k = 1\n",
    "        else :\n",
    "            k = k + 1\n",
    "    print(\"Solusi terbaik =\", Xt, count_fitness(Xt))\n",
    "    return Xt"
   ]
  },
  {
   "cell_type": "markdown",
   "metadata": {},
   "source": [
    "# Main Code"
   ]
  },
  {
   "cell_type": "code",
   "execution_count": 3,
   "metadata": {},
   "outputs": [
    {
     "name": "stdout",
     "output_type": "stream",
     "text": [
      "Solusi terbaik = [250, 300, 400, 1500, 600, 900, 150, 50] 1105000\n",
      "Wall time: 3.99 ms\n"
     ]
    }
   ],
   "source": [
    "X = [50, 400, 300, 900, 600, 150, 1500, 250] #430000\n",
    "%time newX = VNS(X, 2, 100)"
   ]
  },
  {
   "cell_type": "code",
   "execution_count": null,
   "metadata": {},
   "outputs": [],
   "source": []
  }
 ],
 "metadata": {
  "kernelspec": {
   "display_name": "Python 3",
   "language": "python",
   "name": "python3"
  },
  "language_info": {
   "codemirror_mode": {
    "name": "ipython",
    "version": 3
   },
   "file_extension": ".py",
   "mimetype": "text/x-python",
   "name": "python",
   "nbconvert_exporter": "python",
   "pygments_lexer": "ipython3",
   "version": "3.6.4"
  }
 },
 "nbformat": 4,
 "nbformat_minor": 2
}
